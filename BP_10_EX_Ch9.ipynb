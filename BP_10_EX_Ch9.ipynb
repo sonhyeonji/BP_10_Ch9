{
  "nbformat": 4,
  "nbformat_minor": 0,
  "metadata": {
    "colab": {
      "provenance": [],
      "authorship_tag": "ABX9TyNHYqGunBqoB2AGZ92Cot3k",
      "include_colab_link": true
    },
    "kernelspec": {
      "name": "python3",
      "display_name": "Python 3"
    },
    "language_info": {
      "name": "python"
    }
  },
  "cells": [
    {
      "cell_type": "markdown",
      "metadata": {
        "id": "view-in-github",
        "colab_type": "text"
      },
      "source": [
        "<a href=\"https://colab.research.google.com/github/sonhyeonji/BP_10_Ch9/blob/main/BP_10_EX_Ch9.ipynb\" target=\"_parent\"><img src=\"https://colab.research.google.com/assets/colab-badge.svg\" alt=\"Open In Colab\"/></a>"
      ]
    },
    {
      "cell_type": "code",
      "execution_count": null,
      "metadata": {
        "colab": {
          "base_uri": "https://localhost:8080/"
        },
        "id": "6ebLM_hM_VPF",
        "outputId": "5a80a28c-8dcc-4635-c347-d9d8c9350e39"
      },
      "outputs": [
        {
          "output_type": "stream",
          "name": "stdout",
          "text": [
            "정수를 입력하시오.: 10\n",
            "정수를 입력하시오.: 20\n",
            "정수를 입력하시오.: 30\n",
            "정수를 입력하시오.: 40\n",
            "정수를 입력하시오.: 50\n",
            "평균은 30.0 입니다.\n"
          ]
        }
      ],
      "source": [
        "alist = [] #alist라는 리스트를 설정함\n",
        "sum = 0 #0을 변수 sum에 할당함\n",
        "for i in range(5):#range함수를 이용해 반복함\n",
        "  i = int(input(\"정수를 입력하시오.: \")) #int를 사용하여 input값을 숫자로 받음 #변수 i에 할당\n",
        "  alist.append(i) #사용자에게 받은 i를 리스트에 추가함\n",
        "for i in alist: #리스트를 이용해 반복함\n",
        "  sum += i\n",
        "avg = sum/len(alist) #sum/len(alist)를 변수 avg에 할당\n",
        "print(\"평균은\",avg,\"입니다.\") #\"평균은\",avg,\"입니다.\"를 출력함"
      ]
    },
    {
      "cell_type": "code",
      "source": [
        "import random #random 모듈을 가져옴\n",
        "counters = [0, 0, 0, 0, 0, 0] #리스트 만듬 #리스트를 변수 counters에 할당함\n",
        "for i in range(1000): #range함수를 이용해 반복함\n",
        "  value = random.randint(0, 5) #random.randint()를 변수 value에 할당함\n",
        "  counters[value] = counters[value] + 1 #counters[value] + 1를 변수  counters[value]에 할당함\n",
        "\n",
        "for i in range(6) :#range함수를 이용해 6번 반복함\n",
        "  print(\"주사위가 \", i+1, \"인 경우는 \", counters[i], \"번\") #\"주사위가 \", i+1, \"인 경우는 \", counters[i], \"번\"를 출력함"
      ],
      "metadata": {
        "colab": {
          "base_uri": "https://localhost:8080/"
        },
        "id": "bTpLz-cP_Zc7",
        "outputId": "2334f9fe-bf66-4ff4-c66b-f0aed3e2f08b"
      },
      "execution_count": null,
      "outputs": [
        {
          "output_type": "stream",
          "name": "stdout",
          "text": [
            "주사위가  1 인 경우는  151 번\n",
            "주사위가  2 인 경우는  185 번\n",
            "주사위가  3 인 경우는  168 번\n",
            "주사위가  4 인 경우는  170 번\n",
            "주사위가  5 인 경우는  167 번\n",
            "주사위가  6 인 경우는  159 번\n"
          ]
        }
      ]
    },
    {
      "cell_type": "code",
      "source": [
        "contacts={} #contacts라는 공백 딕셔너리를 만듬\n",
        "\n",
        "while True: #무한루프 반복문 실행\n",
        "  name=input(\"(입력모드)이름을 입력하시오.:\") #input값을 변수 name에 할당\n",
        "  if not name: #name이 아닐 경우\n",
        "    break; #반복을 멈춤\n",
        "  tel=input(\"전화번호를 입력하시오.:\") #input값을 변수 tel에 할당\n",
        "  contacts[name]=tel #tel을 딕셔너리에 할당\n",
        "  \n",
        "while True: #무한루프 반복문 실행\n",
        "  search=input(\"(검색모드)이름을 입력하시오.:\") #input값을 변수 search에 할당\n",
        "  if not search: #search이 아닐 경우\n",
        "    break; #반복을 멈춤 \n",
        "  if search in contacts: #딕셔너리에 있는 경우\n",
        "    print(name,\"의 전화번호는\",contacts[search],\"입니다.\") #name,\"의 전화번호는\",contacts[search],\"입니다.\"를 출력함  \n",
        "\n"
      ],
      "metadata": {
        "colab": {
          "base_uri": "https://localhost:8080/"
        },
        "id": "IHY51NGr_efv",
        "outputId": "9ed8f804-9987-429d-817f-1e3d9ffe1bf1"
      },
      "execution_count": null,
      "outputs": [
        {
          "name": "stdout",
          "output_type": "stream",
          "text": [
            "(입력모드)이름을 입력하시오.:손현지\n",
            "전화번호를 입력하시오.:111-2222\n",
            "(입력모드)이름을 입력하시오.:현지\n",
            "전화번호를 입력하시오.:222-3333\n",
            "(입력모드)이름을 입력하시오.:\n",
            "(검색모드)이름을 입력하시오.:손현지\n",
            " 의 전화번호는 111-2222 입니다.\n",
            "(검색모드)이름을 입력하시오.:현지\n",
            " 의 전화번호는 222-3333 입니다.\n",
            "(검색모드)이름을 입력하시오.:\n"
          ]
        }
      ]
    },
    {
      "cell_type": "code",
      "source": [
        "import turtle #터틀 그래픽 모듈을 가져옴\n",
        "import random #random 모듈을 가져옴\n",
        "t = turtle.Turtle() #터틀 그래픽의 모든 기능을 사용한다는 것을 변수 t에 할당함\n",
        "t.shape(\"turtle\") #마우스 커셔 모양을 turtle로 만듬\n",
        "def draw_square(x, y, c): #draw_square()함수를 정의함\n",
        "  t.up() #펜을 올림\n",
        "  t.goto(x, y) #x,y으로 이동함\n",
        "  t.down() #펜을 내림\n",
        "  t.color(\"black\",c) #터틀의 색을 black,c 로만듬\n",
        "  t.begin_fill() #색을 채움\n",
        "  t.forward(100) #앞으로 100만큼 이동함\n",
        "  t.left(90) #왼쪽으로 90만큼 이동함\n",
        "  t.forward(100) #앞으로 100만큼 이동함\n",
        "  t.left(90) #왼쪽으로 90만큼 이동함\n",
        "  t.forward(100) #앞으로 100만큼 이동함\n",
        "  t.left(90) #왼쪽으로 90만큼 이동함\n",
        "  t.forward(100) #앞으로 100만큼 이동함\n",
        "  t.left(90) #왼쪽으로 90만큼 이동함\n",
        "  t.end_fill() #색 채우기를 끝냄\n",
        "\n",
        "for c in [\"yellow\",\"red\",\"purple\",\"blue\"]: #리스트의 내용을 반복함\n",
        "  x = random.randint(-100, 100) #random.randint()를 변수 x에 할당함\n",
        "  y = random.randint(-100, 100) #random.randint()를 변수 y에 할당함\n",
        "  draw_square(x, y, c) #draw_square()함수를 사용함"
      ],
      "metadata": {
        "id": "4FIPMyrj_n1M"
      },
      "execution_count": null,
      "outputs": []
    },
    {
      "cell_type": "code",
      "source": [
        "import turtle #터틀 그래픽 모듈을 가져옴\n",
        "import random #random 모듈을 가져옴\n",
        "t = turtle.Turtle() #터틀 그래픽의 모든 기능을 사용한다는 것을 변수 t에 할당함\n",
        "s = turtle.Screen() #터틀 그래픽 스크린 색 함수를 변수 s에 할당함\n",
        "def draw_shape(t, c, length, sides, x, y): #draw_shape()함수를 정의함\n",
        "  t.up() #펜을 올림\n",
        "  t.goto(x, y) #a,b으로 이동함\n",
        "  t.down() #펜을 내림\n",
        "  t.fillcolor(c) #색을 채움\n",
        "  angle = 360.0 / sides #360.0 / sides값을 변수 angle에 할당\n",
        "  t.begin_fill() #색을 채움\n",
        "  for dist in range(sides): #range함수를 이용해 반복함\n",
        "    t.forward(length) #앞으로 length만큼 이동함\n",
        "    t.left(angle) #왼쪽으로 angle만큼 이동함\n",
        "  t.end_fill() #색 채우기를 끝냄\n",
        "\n",
        "for i in range(10): #range함수를 이용해 반복함\n",
        "  color = random.choice([\"white\",\"yellow\",\"blue\",\"skyblue\",\"orange\",\"green\"]) #리스트 내용을 랜덤으로 나오게 함 #변수 color에 할당\n",
        "  side_length = random.randint(10, 100) #random.randint()함수를 변수 side_length에 할당\n",
        "  sides = random.randint(3, 10) #random.randint()함수를 변수 sides에 할당\n",
        "  x = random.randint(-200, 200) #random.randint()함수를 변수 x에 할당\n",
        "  y = random.randint(-200, 200) #random.randint()함수를 변수 y에 할당\n",
        "  draw_shape(t, color, side_length, sides, x, y) #draw_shape()함수를 사용함"
      ],
      "metadata": {
        "id": "Ot1NTRNgACuy"
      },
      "execution_count": null,
      "outputs": []
    },
    {
      "cell_type": "code",
      "source": [
        "import turtle #터틀 그래픽 모듈을 가져옴\n",
        "import random #random 모듈을 가져옴\n",
        "t = turtle.Turtle() #터틀 그래픽의 모든 기능을 사용한다는 것을 변수 t에 할당함\n",
        "s = turtle.Screen() #터틀 그래픽 스크린 색 함수를 변수 s에 할당함\n",
        "s.bgcolor(\"black\") #스크린(배경)색을  black으로 만듬\n",
        "\n",
        "def draw_star(color,length, x, y): #draw_star()함수를 정의함\n",
        "  t.color(color) #터틀에 색을 입힘\n",
        "  t.begin_fill() #색을 채움\n",
        "  t.penup() #펜을 올림\n",
        "  t.goto(x, y) #x,y으로 이동함\n",
        "  t.pendown() #펜을 내림 \n",
        "  for i in range(5): #range함수를 이용해 반복함\n",
        "    t.forward(length) #앞으로 length만큼 이동함\n",
        "    t.right(144) #오른쪽으로 144만큼 이동함\n",
        "    t.forward(length) #앞으로 length만큼 이동함\n",
        "  t.end_fill() #색 채우기를 끝냄\n",
        "\n",
        "for i in range(20): #range함수를 이용해 반복함\n",
        "  color = random.choice([\"white\",\"yellow\",\"blue\",\"skyblue\",\"orange\",\"green\"]) #리스트 내용을 랜덤으로 나오게 함 #변수 color에 할당\n",
        "  length = random.randint(10, 100) #random.randint()함수를 변수 length에 할당\n",
        "  x = random.randint(-200, 200) #random.randint()함수를 변수 x에 할당\n",
        "  y = random.randint(-200, 200) #random.randint()함수를 변수 y에 할당\n",
        "  draw_star(color,length, x, y) #draw_star()함수를 사용함"
      ],
      "metadata": {
        "id": "dx92Y2ZOADgA"
      },
      "execution_count": null,
      "outputs": []
    },
    {
      "cell_type": "code",
      "source": [
        "domains = { \"kr\": \"대한민국\", \"us\": \"미국\",\"jp\": \"일본\", \"de\": \"독일\", \"sk\": \"슬로바키아\", \"hu\": \"헝가리\", \"no\": \"노르웨이\" } #domains이라는 딕셔너리를 만듬\n",
        "\n",
        "for k, v in domains.items(): #리스트를 이용해 반복함\n",
        "  print (k, \": \", v) #k, \": \", v를 출력함\n"
      ],
      "metadata": {
        "colab": {
          "base_uri": "https://localhost:8080/"
        },
        "id": "0cJn_TRqAH0x",
        "outputId": "e4ea929a-e240-4d9f-f4dd-887d966e61b6"
      },
      "execution_count": null,
      "outputs": [
        {
          "output_type": "stream",
          "name": "stdout",
          "text": [
            "kr :  대한민국\n",
            "us :  미국\n",
            "jp :  일본\n",
            "de :  독일\n",
            "sk :  슬로바키아\n",
            "hu :  헝가리\n",
            "no :  노르웨이\n"
          ]
        }
      ]
    },
    {
      "cell_type": "code",
      "source": [
        "problems= {\"파이썬\": \"최근에 가장 떠오르는 프로그래밍 언어\",\n",
        "            \"변수\": \"데이터를 저장하는 메모리 공간\",\n",
        "            \"함수\": \"작업을 수행하는 문장들의 집합에 이름을 붙인것\",\n",
        "            \"리스트\": \"서로 관련이 없는 항목들의 모임\"} #problems이라는 딕셔너리를 만듬\n",
        "\n",
        "def show_words(problems): #show_words()함수를 정의함\n",
        "  display_message = \"\" #\"\"를 변수 display_message에 할당함 \n",
        "  i=1 #1을 변수 i에 할당함\n",
        "  for word in problems.keys(): #problems.keys()함수를 이용해 반복함\n",
        "    display_message += \"(\"+str(i)+\")\" #\"(\"+str(i)+\")\"를 변수display_message +에 할당함\n",
        "    display_message += word + \" \" #word + \" \"를 display_message +에 할당함\n",
        "    i+=1 #1을 변수 i+에 할당함\n",
        "  print( display_message) #변수 display_message를 출력함\n",
        "\n",
        "for meaning in problems.values(): #problems.values()함수를 이용해 반복함\n",
        "  print(\"다음은 어떤 단어에 대한 설명일까요? \") #\"다음은 어떤 단어에 대한 설명일까요? \"를 출력함\n",
        "  print(\"\\\"\"+meaning+\"\\\"\") #\"\\\"\"+meaning+\"\\\"\"를 출력함\n",
        "  correct = False #False를 변수 correct에 할당함\n",
        "  while not correct: #무한루프 반복문 실행\n",
        "    show_words(problems) #show_words()함수를 사용함\n",
        "    guessed_word = input(\"\") #값을 문자열로 받아야 함\n",
        "    if problems[guessed_word] == meaning: #problems[guessed_word가 meaning:와 같을 경우\n",
        "      print(\"정답입니다!\") #\"정답입니다!\"를 출력함\n",
        "      correct = True #True를 변수 correct에 할당함\n",
        "    else: #위의 경우가 아닐 경우\n",
        "      print(\"정답이 아닙니다.다시 시도 해 보세요.\") #\"정답이 아닙니다.다시 시도 해 보세요.\"를 출력함"
      ],
      "metadata": {
        "colab": {
          "base_uri": "https://localhost:8080/"
        },
        "id": "pJb_W5UNALHw",
        "outputId": "dab8a6d2-cddc-4cd0-fa97-6181207150bb"
      },
      "execution_count": null,
      "outputs": [
        {
          "output_type": "stream",
          "name": "stdout",
          "text": [
            "다음은 어떤 단어에 대한 설명일까요? \n",
            "\"최근에 가장 떠오르는 프로그래밍 언어\"\n",
            "(1)파이썬 (2)변수 (3)함수 (4)리스트 \n",
            "파이썬\n",
            "정답입니다!\n",
            "다음은 어떤 단어에 대한 설명일까요? \n",
            "\"데이터를 저장하는 메모리 공간\"\n",
            "(1)파이썬 (2)변수 (3)함수 (4)리스트 \n",
            "함수\n",
            "정답이 아닙니다.다시 시도 해 보세요.\n",
            "(1)파이썬 (2)변수 (3)함수 (4)리스트 \n",
            "변수\n",
            "정답입니다!\n",
            "다음은 어떤 단어에 대한 설명일까요? \n",
            "\"작업을 수행하는 문장들의 집합에 이름을 붙인것\"\n",
            "(1)파이썬 (2)변수 (3)함수 (4)리스트 \n",
            "함수\n",
            "정답입니다!\n",
            "다음은 어떤 단어에 대한 설명일까요? \n",
            "\"서로 관련이 없는 항목들의 모임\"\n",
            "(1)파이썬 (2)변수 (3)함수 (4)리스트 \n",
            "리스트\n",
            "정답입니다!\n"
          ]
        }
      ]
    }
  ]
}